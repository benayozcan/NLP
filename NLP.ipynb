{
 "cells": [
  {
   "cell_type": "code",
   "execution_count": 1,
   "id": "d991142d-c211-4684-bb7b-b9127be8997d",
   "metadata": {},
   "outputs": [],
   "source": [
    "import pandas as pd"
   ]
  },
  {
   "cell_type": "code",
   "execution_count": 2,
   "id": "f4b30f5d-f138-4164-b749-9d07783fd06d",
   "metadata": {},
   "outputs": [],
   "source": [
    "df = pd.read_csv(\"IMDB_Dataset.csv\")"
   ]
  },
  {
   "cell_type": "code",
   "execution_count": 3,
   "id": "249c899a-df12-4eff-882b-0cd19bb8fae6",
   "metadata": {},
   "outputs": [
    {
     "data": {
      "text/html": [
       "<div>\n",
       "<style scoped>\n",
       "    .dataframe tbody tr th:only-of-type {\n",
       "        vertical-align: middle;\n",
       "    }\n",
       "\n",
       "    .dataframe tbody tr th {\n",
       "        vertical-align: top;\n",
       "    }\n",
       "\n",
       "    .dataframe thead th {\n",
       "        text-align: right;\n",
       "    }\n",
       "</style>\n",
       "<table border=\"1\" class=\"dataframe\">\n",
       "  <thead>\n",
       "    <tr style=\"text-align: right;\">\n",
       "      <th></th>\n",
       "      <th>review</th>\n",
       "      <th>sentiment</th>\n",
       "    </tr>\n",
       "  </thead>\n",
       "  <tbody>\n",
       "    <tr>\n",
       "      <th>0</th>\n",
       "      <td>One of the other reviewers has mentioned that ...</td>\n",
       "      <td>positive</td>\n",
       "    </tr>\n",
       "    <tr>\n",
       "      <th>1</th>\n",
       "      <td>A wonderful little production. &lt;br /&gt;&lt;br /&gt;The...</td>\n",
       "      <td>positive</td>\n",
       "    </tr>\n",
       "    <tr>\n",
       "      <th>2</th>\n",
       "      <td>I thought this was a wonderful way to spend ti...</td>\n",
       "      <td>positive</td>\n",
       "    </tr>\n",
       "    <tr>\n",
       "      <th>3</th>\n",
       "      <td>Basically there's a family where a little boy ...</td>\n",
       "      <td>negative</td>\n",
       "    </tr>\n",
       "    <tr>\n",
       "      <th>4</th>\n",
       "      <td>Petter Mattei's \"Love in the Time of Money\" is...</td>\n",
       "      <td>positive</td>\n",
       "    </tr>\n",
       "  </tbody>\n",
       "</table>\n",
       "</div>"
      ],
      "text/plain": [
       "                                              review sentiment\n",
       "0  One of the other reviewers has mentioned that ...  positive\n",
       "1  A wonderful little production. <br /><br />The...  positive\n",
       "2  I thought this was a wonderful way to spend ti...  positive\n",
       "3  Basically there's a family where a little boy ...  negative\n",
       "4  Petter Mattei's \"Love in the Time of Money\" is...  positive"
      ]
     },
     "execution_count": 3,
     "metadata": {},
     "output_type": "execute_result"
    }
   ],
   "source": [
    "df.head()"
   ]
  },
  {
   "cell_type": "code",
   "execution_count": 4,
   "id": "cbb7af5d-ea20-427f-ada2-5e88287e6962",
   "metadata": {},
   "outputs": [
    {
     "data": {
      "text/html": [
       "<div>\n",
       "<style scoped>\n",
       "    .dataframe tbody tr th:only-of-type {\n",
       "        vertical-align: middle;\n",
       "    }\n",
       "\n",
       "    .dataframe tbody tr th {\n",
       "        vertical-align: top;\n",
       "    }\n",
       "\n",
       "    .dataframe thead th {\n",
       "        text-align: right;\n",
       "    }\n",
       "</style>\n",
       "<table border=\"1\" class=\"dataframe\">\n",
       "  <thead>\n",
       "    <tr style=\"text-align: right;\">\n",
       "      <th></th>\n",
       "      <th>review</th>\n",
       "      <th>sentiment</th>\n",
       "    </tr>\n",
       "  </thead>\n",
       "  <tbody>\n",
       "    <tr>\n",
       "      <th>count</th>\n",
       "      <td>50000</td>\n",
       "      <td>50000</td>\n",
       "    </tr>\n",
       "    <tr>\n",
       "      <th>unique</th>\n",
       "      <td>49582</td>\n",
       "      <td>2</td>\n",
       "    </tr>\n",
       "    <tr>\n",
       "      <th>top</th>\n",
       "      <td>Loved today's show!!! It was a variety and not...</td>\n",
       "      <td>positive</td>\n",
       "    </tr>\n",
       "    <tr>\n",
       "      <th>freq</th>\n",
       "      <td>5</td>\n",
       "      <td>25000</td>\n",
       "    </tr>\n",
       "  </tbody>\n",
       "</table>\n",
       "</div>"
      ],
      "text/plain": [
       "                                                   review sentiment\n",
       "count                                               50000     50000\n",
       "unique                                              49582         2\n",
       "top     Loved today's show!!! It was a variety and not...  positive\n",
       "freq                                                    5     25000"
      ]
     },
     "execution_count": 4,
     "metadata": {},
     "output_type": "execute_result"
    }
   ],
   "source": [
    "df.describe()"
   ]
  },
  {
   "cell_type": "code",
   "execution_count": 5,
   "id": "d7d53db3-f78e-4183-9f58-7e7949347532",
   "metadata": {},
   "outputs": [
    {
     "data": {
      "text/plain": [
       "positive    25000\n",
       "negative    25000\n",
       "Name: sentiment, dtype: int64"
      ]
     },
     "execution_count": 5,
     "metadata": {},
     "output_type": "execute_result"
    }
   ],
   "source": [
    "df[\"sentiment\"].value_counts()"
   ]
  },
  {
   "cell_type": "code",
   "execution_count": null,
   "id": "a2a4cbc3-bf10-4b9f-9fd8-b47f659dcf85",
   "metadata": {},
   "outputs": [],
   "source": [
    "#lowercase\n",
    "df[\"review\"]=df[\"review\"].apply(lambda x: \" \".join(x.lower() for i in x.split()))"
   ]
  },
  {
   "cell_type": "code",
   "execution_count": null,
   "id": "1187ed43-2217-4f7a-9e5b-4aaa6e549ff2",
   "metadata": {},
   "outputs": [],
   "source": [
    "df[\"review\"]=df[\"review\"].str.replace(\"[^\\w\\s]\",\"\")"
   ]
  },
  {
   "cell_type": "code",
   "execution_count": null,
   "id": "5ff6ea97-526e-4c53-bc2e-ab7a8e3bf0b9",
   "metadata": {},
   "outputs": [],
   "source": [
    "df[\"review\"]=df[\"review\"].str.replace(\"\\d\",\"\")"
   ]
  },
  {
   "cell_type": "code",
   "execution_count": null,
   "id": "e99dbbf2-e14f-4ac2-bcea-90747a981f73",
   "metadata": {},
   "outputs": [],
   "source": [
    "import nltk"
   ]
  },
  {
   "cell_type": "code",
   "execution_count": null,
   "id": "1728379c-b20f-4c91-9db0-22af05ad460c",
   "metadata": {},
   "outputs": [],
   "source": [
    "nltk.download(\"stopwords\")"
   ]
  },
  {
   "cell_type": "code",
   "execution_count": null,
   "id": "4b168923-00e3-4d66-86a6-8e2131b16b5e",
   "metadata": {},
   "outputs": [],
   "source": [
    "from nltk.corpus import stopwords\n",
    "sw=stopwords.words(\"english\")"
   ]
  },
  {
   "cell_type": "code",
   "execution_count": null,
   "id": "5a7e6c1c-13f3-4ec6-a6cb-7e265d68ed7e",
   "metadata": {},
   "outputs": [],
   "source": [
    "df[\"review\"] = df[\"review\"].apply(lambda x: \" \".join(x for x in x.split() if x not in sw))"
   ]
  },
  {
   "cell_type": "code",
   "execution_count": null,
   "id": "597c2459-eb9a-41ed-bd48-73dc589ff1ac",
   "metadata": {},
   "outputs": [],
   "source": [
    "df"
   ]
  },
  {
   "cell_type": "code",
   "execution_count": null,
   "id": "2d1131ca-0054-4875-af7b-2a93161e6d16",
   "metadata": {},
   "outputs": [],
   "source": [
    "sil = df[\"review\"].str.split(expand=True).stack().value_counts()[-200:]"
   ]
  },
  {
   "cell_type": "code",
   "execution_count": null,
   "id": "bae55d1d-0892-4074-bed9-4f6c84695609",
   "metadata": {},
   "outputs": [],
   "source": [
    "df[\"review\"]=df[\"review\"].apply(lambda x: \" \".join(x for x in x.split() if x not in sil))"
   ]
  },
  {
   "cell_type": "code",
   "execution_count": null,
   "id": "5ddf224e-4e7c-4650-abc5-0634be42af98",
   "metadata": {},
   "outputs": [],
   "source": [
    "#Lemmitization"
   ]
  },
  {
   "cell_type": "code",
   "execution_count": null,
   "id": "42202fab-c83b-4273-bb16-ec9d65ee1eb5",
   "metadata": {},
   "outputs": [],
   "source": [
    "from textblob import Word\n",
    "from nltk.stem import WordNetLemmatizer\n",
    "lemmatizer = WordNetLemmatizer()"
   ]
  },
  {
   "cell_type": "code",
   "execution_count": null,
   "id": "122317f3-7a8d-45ee-aae2-3d590fd38adc",
   "metadata": {},
   "outputs": [],
   "source": [
    "nltk.download(\"wordnet\")\n",
    "df[\"review\"]=df[\"review\"].apply(lambda x: \" \".join([lemmatizer.lemmatize(i) for i in \" \".join(x).split()]))"
   ]
  },
  {
   "cell_type": "code",
   "execution_count": null,
   "id": "cd71aeed-7a7a-4727-a6e0-ca848fd33b2c",
   "metadata": {},
   "outputs": [],
   "source": [
    "#train-test\n",
    "from sklearn.model_selection import train_test_split\n",
    "X_train, X_test, Y_train, Y_test = train_test_split(df[\"review\"], df[\"sentiment\"], train_size=0.75)"
   ]
  },
  {
   "cell_type": "code",
   "execution_count": null,
   "id": "04f18585-f5bc-48ee-89c6-0f7914228072",
   "metadata": {},
   "outputs": [],
   "source": [
    "#encoder\n",
    "from sklearn import model_selection, preprocessing, linear_model, naive_bayes, metrics\n",
    "from sklearn.feature_extraction.text import TfidfVectorizer, CountVectorizer\n",
    "from sklearn import decomposition, ensemble"
   ]
  },
  {
   "cell_type": "code",
   "execution_count": null,
   "id": "ea2df0f0-9117-4167-b11a-d2049a67fb6d",
   "metadata": {},
   "outputs": [],
   "source": [
    "encoder = preprocessing.LabelEncoder()\n",
    "train_y=encoder.fit_transform(Y_train)\n",
    "test_y=encoder.fit_transform(Y_test)\n",
    "train_y[0:10]"
   ]
  },
  {
   "cell_type": "code",
   "execution_count": null,
   "id": "1c491f39-1562-41ba-898d-65fff67ac9af",
   "metadata": {},
   "outputs": [],
   "source": [
    "Y_train[0:10]"
   ]
  },
  {
   "cell_type": "code",
   "execution_count": null,
   "id": "290fdbcc-99ba-44e3-9d9c-87efc6eb5016",
   "metadata": {},
   "outputs": [],
   "source": [
    "#Count Vectors"
   ]
  },
  {
   "cell_type": "code",
   "execution_count": null,
   "id": "7dad27dd-c008-4201-a890-0fd8da4c50ec",
   "metadata": {},
   "outputs": [],
   "source": [
    "vectorizer = CountVectorizer()\n",
    "vectorizer.fit(X_train)"
   ]
  },
  {
   "cell_type": "code",
   "execution_count": null,
   "id": "b823b3f1-41ef-4a7a-a121-408c6b0a43f1",
   "metadata": {},
   "outputs": [],
   "source": [
    "x_train_count = vectorizer.transform(X_train)\n",
    "x_test_count = vectorizer.transform(X_test)\n",
    "vectorizer.get_feature_names()[400:405]"
   ]
  },
  {
   "cell_type": "code",
   "execution_count": null,
   "id": "531fc045-0722-4b25-a161-e71d4977e76d",
   "metadata": {},
   "outputs": [],
   "source": [
    "#TF-IDF"
   ]
  },
  {
   "cell_type": "code",
   "execution_count": null,
   "id": "be21e5c4-5315-4913-94e4-311205f00304",
   "metadata": {},
   "outputs": [],
   "source": [
    "#kelime tabanlı"
   ]
  },
  {
   "cell_type": "code",
   "execution_count": null,
   "id": "a16c22a7-4594-432b-8e5b-5cbfa825c5e9",
   "metadata": {},
   "outputs": [],
   "source": [
    "tf_idf_word_vectorizer = TfidfVectorizer()\n",
    "tf_idf_word_vectorizer.fit(X_train)"
   ]
  },
  {
   "cell_type": "code",
   "execution_count": null,
   "id": "7bce2263-dc1a-40ed-9c2f-ea9a88cef47d",
   "metadata": {},
   "outputs": [],
   "source": [
    "x_train_tf_idf_word = tf_idf_word_vectorizer.transform(X_train)\n",
    "x_test_tf_idf_word = tf_idf_word_vectorizer.transform(X_test)"
   ]
  },
  {
   "cell_type": "code",
   "execution_count": null,
   "id": "9bf772c8-e0ae-49af-8761-e7670012f0bd",
   "metadata": {},
   "outputs": [],
   "source": [
    "tf_idf_word_vectorizer.get_feature_names()[400:405]"
   ]
  },
  {
   "cell_type": "code",
   "execution_count": null,
   "id": "9f038327-313f-452e-963f-89eb3d7c6525",
   "metadata": {},
   "outputs": [],
   "source": [
    "#character level"
   ]
  },
  {
   "cell_type": "code",
   "execution_count": null,
   "id": "56798491-4dad-46f7-a6e4-2b0fc5cf41aa",
   "metadata": {},
   "outputs": [],
   "source": [
    "tf_idf_chars_vectorizer = TfidfVectorizer(analyzer = \"char\", ngram_range=(2,3))\n",
    "tf_idf_chars_vectorizer.fit(X_train)"
   ]
  },
  {
   "cell_type": "code",
   "execution_count": null,
   "id": "abe78c38-ea40-424b-8299-483b059814f8",
   "metadata": {},
   "outputs": [],
   "source": [
    "x_train_tf_idf_chars = tf_idf_chars_vectorizer.transform(X_train)\n",
    "x_test_tf_idf_chars = tf_idf_chars_vectorizer.transform(X_test)"
   ]
  },
  {
   "cell_type": "code",
   "execution_count": null,
   "id": "c83012e2-3f7e-428a-969f-f6a4fd95dc8a",
   "metadata": {},
   "outputs": [],
   "source": []
  },
  {
   "cell_type": "code",
   "execution_count": null,
   "id": "c892a934-a2c8-480b-87c7-ddb7c77aa9c5",
   "metadata": {},
   "outputs": [],
   "source": [
    "#algorithms"
   ]
  },
  {
   "cell_type": "code",
   "execution_count": null,
   "id": "4c6da031-6470-4903-a10f-fbab2efc8123",
   "metadata": {},
   "outputs": [],
   "source": [
    "#logistic regression\n",
    "loj = linear_model.LogisticRegression()\n",
    "loj_model = loj.fit(x_train_count, Y_train)\n",
    "accuracy = model_selection.cross_val_score(loj_model, x_test_count, Y_test, cv=10).mean()\n",
    "print(\"Count vectors doğruluk oranı: \", accuracy)"
   ]
  },
  {
   "cell_type": "code",
   "execution_count": null,
   "id": "2fe717a6-6cb0-4ea1-9b35-9c6fe73be1e6",
   "metadata": {},
   "outputs": [],
   "source": [
    "loj_model2 = loj.fit(x_train_tf_idf_word, Y_train)\n",
    "accuracy = model_selection.cross_val_score(loj_model2, x_test_tf_idf_word, Y_test, cv=10).mean()\n",
    "print(\"Word level TF-IDF Doğruluk Oranı: \", accuracy)"
   ]
  },
  {
   "cell_type": "code",
   "execution_count": null,
   "id": "48fc83f2-befd-4aad-8e2e-5118e7ff8e01",
   "metadata": {},
   "outputs": [],
   "source": [
    "loj_model3 = loj.fit(x_train_tf_idf_chars, Y_train)\n",
    "accuracy = model_selection.cross_val_score(loj_model3, x_test_tf_idf_chars, Y_test, cv=10).mean()\n",
    "print(\"Character level TF-IDF Doğruluk Oranı: \", accuracy)"
   ]
  },
  {
   "cell_type": "code",
   "execution_count": null,
   "id": "cc1b48ea-1b5f-45cd-a407-c31891161370",
   "metadata": {},
   "outputs": [],
   "source": [
    "#Naive Bayes"
   ]
  },
  {
   "cell_type": "code",
   "execution_count": null,
   "id": "f151ac91-df05-4b80-b205-f8c1ade3768f",
   "metadata": {},
   "outputs": [],
   "source": [
    "nb = naive_bayes.MultinomialNB()\n",
    "nb_model = nb.fit(x_train_count, Y_train)\n",
    "accuracy = model_selection.cross_val_score(nb_model, x_test_count, Y_test, cv=10).mean()\n",
    "print(\"Count Vectors Doğruluk Oranı: \", accuracy)"
   ]
  },
  {
   "cell_type": "code",
   "execution_count": null,
   "id": "2d0f0add-c82c-4ea2-b197-6a88bccfd4ef",
   "metadata": {},
   "outputs": [],
   "source": [
    "nb_model2 = nb.fit(x_train_tf_idf_word, Y_train)\n",
    "accuracy = model_selection.cross_val_score(nb_model2, x_test_tf_idf_word, Y_test, cv=10).mean()\n",
    "print(\"Word level TF-IDF Doğruluk Oranı: \", accuracy)"
   ]
  },
  {
   "cell_type": "code",
   "execution_count": null,
   "id": "4fa09566-efd2-4a50-8354-0967a9eb115f",
   "metadata": {},
   "outputs": [],
   "source": [
    "nb_model3 = nb.fit(x_train_tf_idf_chars, Y_train)\n",
    "accuracy = model_selection.cross_val_score(nb_model3, x_test_tf_idf_chars, Y_test, cv=10).mean()\n",
    "print(\"Chars level TF-IDF Doğruluk Oranı: \", accuracy)"
   ]
  },
  {
   "cell_type": "code",
   "execution_count": null,
   "id": "125c4e3d-1f04-4179-8646-ff9e7807dbed",
   "metadata": {},
   "outputs": [],
   "source": [
    "#Random Forest"
   ]
  },
  {
   "cell_type": "code",
   "execution_count": null,
   "id": "17fd2080-4156-4226-9d09-8a72fa270ad6",
   "metadata": {},
   "outputs": [],
   "source": [
    "rf = ensemble.RandomForestClassifier()\n",
    "rf_model = rf.fit(x_train_count, Y_train)\n",
    "accuracy = model_selection.cross_val_score(rf_model, x_test_count, Y_test, cv=10).mean()\n",
    "print(\"Count Vector Doğruluk Oranı: \", accuracy)"
   ]
  },
  {
   "cell_type": "code",
   "execution_count": null,
   "id": "d388b9e5-8065-49c9-bd2d-65667b50cbe7",
   "metadata": {},
   "outputs": [],
   "source": [
    "#word_level"
   ]
  },
  {
   "cell_type": "code",
   "execution_count": null,
   "id": "36889f46-d6ad-4d17-91bc-cea7e5691b0f",
   "metadata": {},
   "outputs": [],
   "source": [
    "rf_model = rf.fit(x_train_tf_idf_word, Y_train)\n",
    "accuracy = model_selection.cross_val_score(rf_model, x_test_tf_idf_word, Y_test, cv=10).mean()\n",
    "print(\"Word Level TF-IDF Doğruluk Oranı: \", accuracy)"
   ]
  },
  {
   "cell_type": "code",
   "execution_count": null,
   "id": "9c4a2db6-a1c2-43cc-a9bc-e57d79bca42c",
   "metadata": {},
   "outputs": [],
   "source": [
    "#char level"
   ]
  },
  {
   "cell_type": "code",
   "execution_count": null,
   "id": "cec96411-e91e-4887-bab0-63366b2a6362",
   "metadata": {},
   "outputs": [],
   "source": [
    "rf_model = rf.fit(x_train_tf_idf_chars, Y_train)\n",
    "accuracy = model_selection.cross_val_score(rf_model, x_test_tf_idf_chars, Y_test, cv=10).mean()\n",
    "print(\"char level TF-IDF Doğruluk Oranı: \", accuracy)"
   ]
  },
  {
   "cell_type": "code",
   "execution_count": null,
   "id": "b9d8f7a5-3875-4e69-912a-5d433e37fb2d",
   "metadata": {},
   "outputs": [],
   "source": []
  },
  {
   "cell_type": "code",
   "execution_count": null,
   "id": "1bc1d649-c9fa-44c4-8aae-61a8e4a38bca",
   "metadata": {},
   "outputs": [],
   "source": [
    "#XGBoost"
   ]
  },
  {
   "cell_type": "code",
   "execution_count": null,
   "id": "c0d34c0b-8f48-4637-818f-bebbe4f09a59",
   "metadata": {},
   "outputs": [],
   "source": [
    "#Count Vector\n",
    "xgb = xgboost.XGBClassifier()\n",
    "xgb_model = xgb.fit(x_train_count, train_y)\n",
    "accuracy = model_selection.cross_val_score(xgb_model, x_test_count, test_y, cv=10).mean()\n",
    "print(\"Count Vector Doğruluk Oranı: \", accuracy)"
   ]
  },
  {
   "cell_type": "code",
   "execution_count": null,
   "id": "1a192aa2-0247-45b7-9cec-0d1b70d80eb9",
   "metadata": {},
   "outputs": [],
   "source": [
    "#word level"
   ]
  },
  {
   "cell_type": "code",
   "execution_count": null,
   "id": "58f05c82-57da-4825-a124-9d19f07a716d",
   "metadata": {},
   "outputs": [],
   "source": [
    "xgb_model = xgb.fit(x_train_tf_idf_word, train_y)\n",
    "accuracy = model_selection.cross_val_score(xgb_model, x_test_tf_idf_word, test_y, cv=10).mean()\n",
    "print(\"Word level Doğruluk Oranı: \", accuracy)"
   ]
  },
  {
   "cell_type": "code",
   "execution_count": null,
   "id": "b132fa8b-b3b6-457b-b8d7-ecf045212151",
   "metadata": {},
   "outputs": [],
   "source": [
    "#Chars level"
   ]
  },
  {
   "cell_type": "code",
   "execution_count": null,
   "id": "61d8c858-6360-4176-b6ce-56a22e9e93ec",
   "metadata": {},
   "outputs": [],
   "source": [
    "xgb_model = xgb.fit(x_train_tf_idf_chars, train_y)\n",
    "accuracy = model_selection.cross_val_score(xgb_model, x_test_tf_idf_chars, test_y, cv=10).mean()\n",
    "print(\"Chars level Doğruluk Oranı: \", accuracy)"
   ]
  },
  {
   "cell_type": "code",
   "execution_count": null,
   "id": "3d0f64d6-5fdf-4bee-8839-5d0fc6469add",
   "metadata": {},
   "outputs": [],
   "source": []
  },
  {
   "cell_type": "code",
   "execution_count": null,
   "id": "eb95572a-d1f0-49fb-9efc-e0cf7ea9fada",
   "metadata": {},
   "outputs": [],
   "source": [
    "#Deep Learning"
   ]
  },
  {
   "cell_type": "code",
   "execution_count": null,
   "id": "aaf1c668-7dc2-4983-8e27-5f205a39321a",
   "metadata": {},
   "outputs": [],
   "source": [
    "from keras.preprocessing.text import Tokenizer\n",
    "from keras.utils import pad_sequences\n",
    "from keras.layers import Dense, Input, LSTM, Embedding, Dropout, Activation, GRU, Flatten\n",
    "from keras.layers import Bidirectional, GlobalMaxPool1D\n",
    "from keras.models import Model, Sequential\n",
    "from keras.layers import Convolution1D\n",
    "from keras import initializers, regularizers, constraints, optimizers, layers"
   ]
  },
  {
   "cell_type": "code",
   "execution_count": null,
   "id": "9908c267-851f-4446-a728-de075ee5729b",
   "metadata": {},
   "outputs": [],
   "source": [
    "max_features=6000\n",
    "tokenizer = Tokenizer(num_words=max_features)\n",
    "tokenizer.fit_on_texts(df[\"review\"])\n",
    "list_tokenized_train = tokenizer.texts_to_sequences(df[\"review\"])\n",
    "\n",
    "maxlen=130\n",
    "X_t = pad_sequences(list_tokenized_train, maxlen=maxlen)\n",
    "y = df[\"sentiment\"].map({\"positive\":1, \"negative\":0})\n",
    "\n",
    "embed_size = 128\n",
    "model = Sequential()\n",
    "model.add(Embedding(max_features, embed_size))\n",
    "model.add(Bidirectional(LSTM(32, return_sequences=True)))\n",
    "model.add(GlobalMaxPool1D())\n",
    "model.add(Dense(20,activation=\"relu\"))\n",
    "model.add(Dropout(0.05))\n",
    "model.add(Dense(1, activation = \"sigmoid\"))\n",
    "model.compile(loss=\"binary_crossentropy\", optimizer = \"adam\",metrics=[\"accuracy\"])\n",
    "\n",
    "batch_size=100\n",
    "epochs=3\n",
    "model.fit(X_t, y, batch_size = batch_size, epochs = epochs, validation_split=0.2)"
   ]
  },
  {
   "cell_type": "code",
   "execution_count": null,
   "id": "018c86a8-82cf-4a7e-9aa8-b8fd254ba03b",
   "metadata": {},
   "outputs": [],
   "source": []
  }
 ],
 "metadata": {
  "kernelspec": {
   "display_name": "Python 3 (ipykernel)",
   "language": "python",
   "name": "python3"
  },
  "language_info": {
   "codemirror_mode": {
    "name": "ipython",
    "version": 3
   },
   "file_extension": ".py",
   "mimetype": "text/x-python",
   "name": "python",
   "nbconvert_exporter": "python",
   "pygments_lexer": "ipython3",
   "version": "3.9.12"
  }
 },
 "nbformat": 4,
 "nbformat_minor": 5
}
